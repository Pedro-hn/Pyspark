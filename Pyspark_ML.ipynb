{
  "nbformat": 4,
  "nbformat_minor": 0,
  "metadata": {
    "colab": {
      "provenance": [],
      "authorship_tag": "ABX9TyOr2pwrwc5yjD9221rjPyDj",
      "include_colab_link": true
    },
    "kernelspec": {
      "name": "python3",
      "display_name": "Python 3"
    },
    "language_info": {
      "name": "python"
    }
  },
  "cells": [
    {
      "cell_type": "markdown",
      "metadata": {
        "id": "view-in-github",
        "colab_type": "text"
      },
      "source": [
        "<a href=\"https://colab.research.google.com/github/Pedro-hn/Pyspark/blob/main/Pyspark_ML.ipynb\" target=\"_parent\"><img src=\"https://colab.research.google.com/assets/colab-badge.svg\" alt=\"Open In Colab\"/></a>"
      ]
    },
    {
      "cell_type": "code",
      "source": [
        "pip install pyspark"
      ],
      "metadata": {
        "id": "I6FulWljRXEu"
      },
      "execution_count": null,
      "outputs": []
    },
    {
      "cell_type": "code",
      "execution_count": null,
      "metadata": {
        "id": "2o4bOufnQg5j"
      },
      "outputs": [],
      "source": [
        "from pyspark.sql import SparkSession\n",
        "spark = SparkSession.builder.appName(\"ml\").getOrCreate()"
      ]
    },
    {
      "cell_type": "code",
      "source": [
        "from pyspark.ml.feature import VectorAssembler\n",
        "from pyspark.ml.regression import LinearRegression\n"
      ],
      "metadata": {
        "id": "xrE9cAyHWqGc"
      },
      "execution_count": null,
      "outputs": []
    },
    {
      "cell_type": "code",
      "source": [
        "df = spark.read.csv(\"train.csv\", header= True, inferSchema= True)"
      ],
      "metadata": {
        "id": "GoezdbA7St0t"
      },
      "execution_count": null,
      "outputs": []
    },
    {
      "cell_type": "code",
      "source": [
        "df.show(5)"
      ],
      "metadata": {
        "colab": {
          "base_uri": "https://localhost:8080/"
        },
        "id": "mJMNi1ukS_F2",
        "outputId": "950fb0a5-2bc2-431a-be1d-af04dec123d2"
      },
      "execution_count": null,
      "outputs": [
        {
          "output_type": "stream",
          "name": "stdout",
          "text": [
            "+-----------+--------+------+--------------------+------+----+-----+-----+----------------+-------+-----+--------+\n",
            "|PassengerId|Survived|Pclass|                Name|   Sex| Age|SibSp|Parch|          Ticket|   Fare|Cabin|Embarked|\n",
            "+-----------+--------+------+--------------------+------+----+-----+-----+----------------+-------+-----+--------+\n",
            "|          1|       0|     3|Braund, Mr. Owen ...|  male|22.0|    1|    0|       A/5 21171|   7.25| NULL|       S|\n",
            "|          2|       1|     1|Cumings, Mrs. Joh...|female|38.0|    1|    0|        PC 17599|71.2833|  C85|       C|\n",
            "|          3|       1|     3|Heikkinen, Miss. ...|female|26.0|    0|    0|STON/O2. 3101282|  7.925| NULL|       S|\n",
            "|          4|       1|     1|Futrelle, Mrs. Ja...|female|35.0|    1|    0|          113803|   53.1| C123|       S|\n",
            "|          5|       0|     3|Allen, Mr. Willia...|  male|35.0|    0|    0|          373450|   8.05| NULL|       S|\n",
            "+-----------+--------+------+--------------------+------+----+-----+-----+----------------+-------+-----+--------+\n",
            "only showing top 5 rows\n",
            "\n"
          ]
        }
      ]
    },
    {
      "cell_type": "code",
      "source": [
        "df.printSchema()"
      ],
      "metadata": {
        "colab": {
          "base_uri": "https://localhost:8080/"
        },
        "id": "7oSPPlMMTBf-",
        "outputId": "ed54ff37-85e7-494b-8cd4-5c9bdbcc8622"
      },
      "execution_count": null,
      "outputs": [
        {
          "output_type": "stream",
          "name": "stdout",
          "text": [
            "root\n",
            " |-- PassengerId: integer (nullable = true)\n",
            " |-- Survived: integer (nullable = true)\n",
            " |-- Pclass: integer (nullable = true)\n",
            " |-- Name: string (nullable = true)\n",
            " |-- Sex: string (nullable = true)\n",
            " |-- Age: double (nullable = true)\n",
            " |-- SibSp: integer (nullable = true)\n",
            " |-- Parch: integer (nullable = true)\n",
            " |-- Ticket: string (nullable = true)\n",
            " |-- Fare: double (nullable = true)\n",
            " |-- Cabin: string (nullable = true)\n",
            " |-- Embarked: string (nullable = true)\n",
            "\n"
          ]
        }
      ]
    },
    {
      "cell_type": "code",
      "source": [
        "df.columns"
      ],
      "metadata": {
        "colab": {
          "base_uri": "https://localhost:8080/"
        },
        "id": "3BVpTVHETO98",
        "outputId": "395fc89b-6c0f-40bd-90f3-a21a093ce56a"
      },
      "execution_count": null,
      "outputs": [
        {
          "output_type": "execute_result",
          "data": {
            "text/plain": [
              "['PassengerId',\n",
              " 'Survived',\n",
              " 'Pclass',\n",
              " 'Name',\n",
              " 'Sex',\n",
              " 'Age',\n",
              " 'SibSp',\n",
              " 'Parch',\n",
              " 'Ticket',\n",
              " 'Fare',\n",
              " 'Cabin',\n",
              " 'Embarked']"
            ]
          },
          "metadata": {},
          "execution_count": 37
        }
      ]
    },
    {
      "cell_type": "code",
      "source": [
        "df = df.select(\"SibSp\", \"Age\", \"Parch\", \"Survived\", \"Pclass\", \"Fare\")"
      ],
      "metadata": {
        "id": "XUamNbZcUs1j"
      },
      "execution_count": null,
      "outputs": []
    },
    {
      "cell_type": "code",
      "source": [
        "\n",
        "featureassembler = VectorAssembler(inputCols=[\"SibSp\", \"Parch\"], outputCol=\"Independent Features\")"
      ],
      "metadata": {
        "id": "jeJEdJxtTV3a"
      },
      "execution_count": null,
      "outputs": []
    },
    {
      "cell_type": "code",
      "source": [
        "output = featureassembler.transform(df)"
      ],
      "metadata": {
        "id": "HlxlV0e7TzpC"
      },
      "execution_count": null,
      "outputs": []
    },
    {
      "cell_type": "code",
      "source": [
        "output.show()"
      ],
      "metadata": {
        "colab": {
          "base_uri": "https://localhost:8080/"
        },
        "id": "rp02fCu5UmBE",
        "outputId": "29029765-802a-4d7f-f173-e070d44b945e"
      },
      "execution_count": null,
      "outputs": [
        {
          "output_type": "stream",
          "name": "stdout",
          "text": [
            "+-----+----+-----+--------+------+-------+--------------------+\n",
            "|SibSp| Age|Parch|Survived|Pclass|   Fare|Independent Features|\n",
            "+-----+----+-----+--------+------+-------+--------------------+\n",
            "|    1|22.0|    0|       0|     3|   7.25|           [1.0,0.0]|\n",
            "|    1|38.0|    0|       1|     1|71.2833|           [1.0,0.0]|\n",
            "|    0|26.0|    0|       1|     3|  7.925|           (2,[],[])|\n",
            "|    1|35.0|    0|       1|     1|   53.1|           [1.0,0.0]|\n",
            "|    0|35.0|    0|       0|     3|   8.05|           (2,[],[])|\n",
            "|    0|NULL|    0|       0|     3| 8.4583|           (2,[],[])|\n",
            "|    0|54.0|    0|       0|     1|51.8625|           (2,[],[])|\n",
            "|    3| 2.0|    1|       0|     3| 21.075|           [3.0,1.0]|\n",
            "|    0|27.0|    2|       1|     3|11.1333|           [0.0,2.0]|\n",
            "|    1|14.0|    0|       1|     2|30.0708|           [1.0,0.0]|\n",
            "|    1| 4.0|    1|       1|     3|   16.7|           [1.0,1.0]|\n",
            "|    0|58.0|    0|       1|     1|  26.55|           (2,[],[])|\n",
            "|    0|20.0|    0|       0|     3|   8.05|           (2,[],[])|\n",
            "|    1|39.0|    5|       0|     3| 31.275|           [1.0,5.0]|\n",
            "|    0|14.0|    0|       0|     3| 7.8542|           (2,[],[])|\n",
            "|    0|55.0|    0|       1|     2|   16.0|           (2,[],[])|\n",
            "|    4| 2.0|    1|       0|     3| 29.125|           [4.0,1.0]|\n",
            "|    0|NULL|    0|       1|     2|   13.0|           (2,[],[])|\n",
            "|    1|31.0|    0|       0|     3|   18.0|           [1.0,0.0]|\n",
            "|    0|NULL|    0|       1|     3|  7.225|           (2,[],[])|\n",
            "+-----+----+-----+--------+------+-------+--------------------+\n",
            "only showing top 20 rows\n",
            "\n"
          ]
        }
      ]
    },
    {
      "cell_type": "code",
      "source": [
        "output.columns"
      ],
      "metadata": {
        "colab": {
          "base_uri": "https://localhost:8080/"
        },
        "id": "6UZbHCOvUnmi",
        "outputId": "d874de9a-1f2f-4c46-a6d8-c34d0e7909ba"
      },
      "execution_count": null,
      "outputs": [
        {
          "output_type": "execute_result",
          "data": {
            "text/plain": [
              "['SibSp', 'Age', 'Parch', 'Survived', 'Pclass', 'Fare', 'Independent Features']"
            ]
          },
          "metadata": {},
          "execution_count": 42
        }
      ]
    },
    {
      "cell_type": "code",
      "source": [
        "finalized_data = output.select(\"Fare\", \"Independent Features\")"
      ],
      "metadata": {
        "id": "TvgB5lPrVnGv"
      },
      "execution_count": null,
      "outputs": []
    },
    {
      "cell_type": "code",
      "source": [
        "finalized_data.show(3)"
      ],
      "metadata": {
        "colab": {
          "base_uri": "https://localhost:8080/"
        },
        "id": "AwPeYGIXV-xL",
        "outputId": "b31c14b3-02c7-4b0b-f33e-f166c2ccce45"
      },
      "execution_count": null,
      "outputs": [
        {
          "output_type": "stream",
          "name": "stdout",
          "text": [
            "+-------+--------------------+\n",
            "|   Fare|Independent Features|\n",
            "+-------+--------------------+\n",
            "|   7.25|           [1.0,0.0]|\n",
            "|71.2833|           [1.0,0.0]|\n",
            "|  7.925|           (2,[],[])|\n",
            "+-------+--------------------+\n",
            "only showing top 3 rows\n",
            "\n"
          ]
        }
      ]
    },
    {
      "cell_type": "code",
      "source": [
        "train_data, test_data = finalized_data.randomSplit([.70, .30])"
      ],
      "metadata": {
        "id": "Kfmfy5j4WBWL"
      },
      "execution_count": null,
      "outputs": []
    },
    {
      "cell_type": "code",
      "source": [
        "print((train_data.count(), len(train_data.columns)))"
      ],
      "metadata": {
        "colab": {
          "base_uri": "https://localhost:8080/"
        },
        "id": "98MtQqNdYSqD",
        "outputId": "c784413b-d718-459b-f954-9b1a58ca81a9"
      },
      "execution_count": null,
      "outputs": [
        {
          "output_type": "stream",
          "name": "stdout",
          "text": [
            "(620, 2)\n"
          ]
        }
      ]
    },
    {
      "cell_type": "code",
      "source": [
        "test_data.count()"
      ],
      "metadata": {
        "colab": {
          "base_uri": "https://localhost:8080/"
        },
        "id": "jubtaiHzZNyS",
        "outputId": "4633575d-c59d-40d9-9a12-7ffd46ff8ea5"
      },
      "execution_count": null,
      "outputs": [
        {
          "output_type": "execute_result",
          "data": {
            "text/plain": [
              "271"
            ]
          },
          "metadata": {},
          "execution_count": 51
        }
      ]
    },
    {
      "cell_type": "code",
      "source": [
        "regressor = LinearRegression(featuresCol=\"Independent Features\", labelCol=\"Fare\")\n",
        "regressor = regressor.fit(train_data)"
      ],
      "metadata": {
        "id": "sDP8fLz9Xo6W"
      },
      "execution_count": null,
      "outputs": []
    },
    {
      "cell_type": "code",
      "source": [
        "regressor.coefficients"
      ],
      "metadata": {
        "colab": {
          "base_uri": "https://localhost:8080/"
        },
        "id": "bTblp_x0YRk2",
        "outputId": "8348d50d-d24e-4ce1-ed2f-a208a56f8b4c"
      },
      "execution_count": null,
      "outputs": [
        {
          "output_type": "execute_result",
          "data": {
            "text/plain": [
              "DenseVector([3.7512, 13.5379])"
            ]
          },
          "metadata": {},
          "execution_count": 52
        }
      ]
    },
    {
      "cell_type": "code",
      "source": [
        "regressor.intercept"
      ],
      "metadata": {
        "colab": {
          "base_uri": "https://localhost:8080/"
        },
        "id": "e0UU4Gw4Zbgl",
        "outputId": "52aa8bbc-319b-45ba-a619-9ad8c887f5cc"
      },
      "execution_count": null,
      "outputs": [
        {
          "output_type": "execute_result",
          "data": {
            "text/plain": [
              "27.190789721236627"
            ]
          },
          "metadata": {},
          "execution_count": 53
        }
      ]
    },
    {
      "cell_type": "code",
      "source": [
        "predicted = regressor.evaluate(test_data)"
      ],
      "metadata": {
        "id": "w7tmJqzNZmVF"
      },
      "execution_count": null,
      "outputs": []
    },
    {
      "cell_type": "code",
      "source": [
        "predicted.predictions.show()"
      ],
      "metadata": {
        "colab": {
          "base_uri": "https://localhost:8080/"
        },
        "id": "vSExYh8VZuF9",
        "outputId": "1f615741-1b85-4bc9-81fc-76670a83e34d"
      },
      "execution_count": null,
      "outputs": [
        {
          "output_type": "stream",
          "name": "stdout",
          "text": [
            "+------+--------------------+------------------+\n",
            "|  Fare|Independent Features|        prediction|\n",
            "+------+--------------------+------------------+\n",
            "|   0.0|           (2,[],[])|27.190789721236627|\n",
            "|   0.0|           (2,[],[])|27.190789721236627|\n",
            "|   0.0|           (2,[],[])|27.190789721236627|\n",
            "|   0.0|           (2,[],[])|27.190789721236627|\n",
            "|  6.75|           (2,[],[])|27.190789721236627|\n",
            "|  7.05|           (2,[],[])|27.190789721236627|\n",
            "|  7.05|           (2,[],[])|27.190789721236627|\n",
            "|7.0542|           (2,[],[])|27.190789721236627|\n",
            "|7.0542|           [1.0,0.0]| 30.94195274578732|\n",
            "| 7.125|           (2,[],[])|27.190789721236627|\n",
            "| 7.125|           (2,[],[])|27.190789721236627|\n",
            "| 7.225|           (2,[],[])|27.190789721236627|\n",
            "| 7.225|           (2,[],[])|27.190789721236627|\n",
            "| 7.225|           (2,[],[])|27.190789721236627|\n",
            "|7.2292|           (2,[],[])|27.190789721236627|\n",
            "|7.2292|           (2,[],[])|27.190789721236627|\n",
            "|7.2292|           (2,[],[])|27.190789721236627|\n",
            "|7.2292|           (2,[],[])|27.190789721236627|\n",
            "|7.2292|           [1.0,1.0]| 44.47989843730211|\n",
            "|  7.25|           (2,[],[])|27.190789721236627|\n",
            "+------+--------------------+------------------+\n",
            "only showing top 20 rows\n",
            "\n"
          ]
        }
      ]
    },
    {
      "cell_type": "code",
      "source": [
        "predicted.meanAbsoluteError, predicted.meanSquaredError"
      ],
      "metadata": {
        "colab": {
          "base_uri": "https://localhost:8080/"
        },
        "id": "JbBpVeXHZ2Xo",
        "outputId": "cd1ed252-e751-466c-dba9-b827fa5a461d"
      },
      "execution_count": null,
      "outputs": [
        {
          "output_type": "execute_result",
          "data": {
            "text/plain": [
              "(24.548502597296153, 1041.339930335139)"
            ]
          },
          "metadata": {},
          "execution_count": 56
        }
      ]
    },
    {
      "cell_type": "code",
      "source": [],
      "metadata": {
        "id": "_4Bzl6EvaV0q"
      },
      "execution_count": null,
      "outputs": []
    }
  ]
}